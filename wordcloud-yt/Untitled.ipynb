{
 "cells": [
  {
   "cell_type": "code",
   "execution_count": 1,
   "metadata": {},
   "outputs": [
    {
     "name": "stdout",
     "output_type": "stream",
     "text": [
      "Collecting wordcloud\n",
      "  Using cached wordcloud-1.7.0.tar.gz (216 kB)\n",
      "Requirement already satisfied: numpy>=1.6.1 in c:\\users\\user\\appdata\\local\\programs\\python\\python37-32\\lib\\site-packages (from wordcloud) (1.19.0)\n",
      "Requirement already satisfied: pillow in c:\\users\\user\\appdata\\local\\programs\\python\\python37-32\\lib\\site-packages (from wordcloud) (7.1.2)\n",
      "Requirement already satisfied: matplotlib in c:\\users\\user\\appdata\\local\\programs\\python\\python37-32\\lib\\site-packages (from wordcloud) (3.2.2)\n",
      "Requirement already satisfied: cycler>=0.10 in c:\\users\\user\\appdata\\local\\programs\\python\\python37-32\\lib\\site-packages (from matplotlib->wordcloud) (0.10.0)\n",
      "Requirement already satisfied: kiwisolver>=1.0.1 in c:\\users\\user\\appdata\\local\\programs\\python\\python37-32\\lib\\site-packages (from matplotlib->wordcloud) (1.2.0)\n",
      "Requirement already satisfied: pyparsing!=2.0.4,!=2.1.2,!=2.1.6,>=2.0.1 in c:\\users\\user\\appdata\\local\\programs\\python\\python37-32\\lib\\site-packages (from matplotlib->wordcloud) (2.4.7)\n",
      "Requirement already satisfied: python-dateutil>=2.1 in c:\\users\\user\\appdata\\local\\programs\\python\\python37-32\\lib\\site-packages (from matplotlib->wordcloud) (2.8.1)\n",
      "Requirement already satisfied: six in c:\\users\\user\\appdata\\local\\programs\\python\\python37-32\\lib\\site-packages (from cycler>=0.10->matplotlib->wordcloud) (1.14.0)\n",
      "Building wheels for collected packages: wordcloud\n",
      "  Building wheel for wordcloud (setup.py): started\n",
      "  Building wheel for wordcloud (setup.py): finished with status 'error'\n",
      "  Running setup.py clean for wordcloud\n",
      "Failed to build wordcloud\n",
      "Installing collected packages: wordcloud\n",
      "    Running setup.py install for wordcloud: started\n",
      "    Running setup.py install for wordcloud: finished with status 'error'\n"
     ]
    },
    {
     "name": "stderr",
     "output_type": "stream",
     "text": [
      "  ERROR: Command errored out with exit status 1:\n",
      "   command: 'c:\\users\\user\\appdata\\local\\programs\\python\\python37-32\\python.exe' -u -c 'import sys, setuptools, tokenize; sys.argv[0] = '\"'\"'C:\\\\Users\\\\user\\\\AppData\\\\Local\\\\Temp\\\\pip-install-nt80fi3n\\\\wordcloud\\\\setup.py'\"'\"'; __file__='\"'\"'C:\\\\Users\\\\user\\\\AppData\\\\Local\\\\Temp\\\\pip-install-nt80fi3n\\\\wordcloud\\\\setup.py'\"'\"';f=getattr(tokenize, '\"'\"'open'\"'\"', open)(__file__);code=f.read().replace('\"'\"'\\r\\n'\"'\"', '\"'\"'\\n'\"'\"');f.close();exec(compile(code, __file__, '\"'\"'exec'\"'\"'))' bdist_wheel -d 'C:\\Users\\user\\AppData\\Local\\Temp\\pip-wheel-w9bjkmdn'\n",
      "       cwd: C:\\Users\\user\\AppData\\Local\\Temp\\pip-install-nt80fi3n\\wordcloud\\\n",
      "  Complete output (20 lines):\n",
      "  running bdist_wheel\n",
      "  running build\n",
      "  running build_py\n",
      "  creating build\n",
      "  creating build\\lib.win32-3.7\n",
      "  creating build\\lib.win32-3.7\\wordcloud\n",
      "  copying wordcloud\\color_from_image.py -> build\\lib.win32-3.7\\wordcloud\n",
      "  copying wordcloud\\tokenization.py -> build\\lib.win32-3.7\\wordcloud\n",
      "  copying wordcloud\\wordcloud.py -> build\\lib.win32-3.7\\wordcloud\n",
      "  copying wordcloud\\wordcloud_cli.py -> build\\lib.win32-3.7\\wordcloud\n",
      "  copying wordcloud\\_version.py -> build\\lib.win32-3.7\\wordcloud\n",
      "  copying wordcloud\\__init__.py -> build\\lib.win32-3.7\\wordcloud\n",
      "  copying wordcloud\\__main__.py -> build\\lib.win32-3.7\\wordcloud\n",
      "  copying wordcloud\\stopwords -> build\\lib.win32-3.7\\wordcloud\n",
      "  copying wordcloud\\DroidSansMono.ttf -> build\\lib.win32-3.7\\wordcloud\n",
      "  UPDATING build\\lib.win32-3.7\\wordcloud/_version.py\n",
      "  set build\\lib.win32-3.7\\wordcloud/_version.py to '1.7.0'\n",
      "  running build_ext\n",
      "  building 'wordcloud.query_integral_image' extension\n",
      "  error: Microsoft Visual C++ 14.0 is required. Get it with \"Build Tools for Visual Studio\": https://visualstudio.microsoft.com/downloads/\n",
      "  ----------------------------------------\n",
      "  ERROR: Failed building wheel for wordcloud\n",
      "    ERROR: Command errored out with exit status 1:\n",
      "     command: 'c:\\users\\user\\appdata\\local\\programs\\python\\python37-32\\python.exe' -u -c 'import sys, setuptools, tokenize; sys.argv[0] = '\"'\"'C:\\\\Users\\\\user\\\\AppData\\\\Local\\\\Temp\\\\pip-install-nt80fi3n\\\\wordcloud\\\\setup.py'\"'\"'; __file__='\"'\"'C:\\\\Users\\\\user\\\\AppData\\\\Local\\\\Temp\\\\pip-install-nt80fi3n\\\\wordcloud\\\\setup.py'\"'\"';f=getattr(tokenize, '\"'\"'open'\"'\"', open)(__file__);code=f.read().replace('\"'\"'\\r\\n'\"'\"', '\"'\"'\\n'\"'\"');f.close();exec(compile(code, __file__, '\"'\"'exec'\"'\"'))' install --record 'C:\\Users\\user\\AppData\\Local\\Temp\\pip-record-zplx35tk\\install-record.txt' --single-version-externally-managed --compile --install-headers 'c:\\users\\user\\appdata\\local\\programs\\python\\python37-32\\Include\\wordcloud'\n",
      "         cwd: C:\\Users\\user\\AppData\\Local\\Temp\\pip-install-nt80fi3n\\wordcloud\\\n",
      "    Complete output (20 lines):\n",
      "    running install\n",
      "    running build\n",
      "    running build_py\n",
      "    creating build\n",
      "    creating build\\lib.win32-3.7\n",
      "    creating build\\lib.win32-3.7\\wordcloud\n",
      "    copying wordcloud\\color_from_image.py -> build\\lib.win32-3.7\\wordcloud\n",
      "    copying wordcloud\\tokenization.py -> build\\lib.win32-3.7\\wordcloud\n",
      "    copying wordcloud\\wordcloud.py -> build\\lib.win32-3.7\\wordcloud\n",
      "    copying wordcloud\\wordcloud_cli.py -> build\\lib.win32-3.7\\wordcloud\n",
      "    copying wordcloud\\_version.py -> build\\lib.win32-3.7\\wordcloud\n",
      "    copying wordcloud\\__init__.py -> build\\lib.win32-3.7\\wordcloud\n",
      "    copying wordcloud\\__main__.py -> build\\lib.win32-3.7\\wordcloud\n",
      "    copying wordcloud\\stopwords -> build\\lib.win32-3.7\\wordcloud\n",
      "    copying wordcloud\\DroidSansMono.ttf -> build\\lib.win32-3.7\\wordcloud\n",
      "    UPDATING build\\lib.win32-3.7\\wordcloud/_version.py\n",
      "    set build\\lib.win32-3.7\\wordcloud/_version.py to '1.7.0'\n",
      "    running build_ext\n",
      "    building 'wordcloud.query_integral_image' extension\n",
      "    error: Microsoft Visual C++ 14.0 is required. Get it with \"Build Tools for Visual Studio\": https://visualstudio.microsoft.com/downloads/\n",
      "    ----------------------------------------\n",
      "ERROR: Command errored out with exit status 1: 'c:\\users\\user\\appdata\\local\\programs\\python\\python37-32\\python.exe' -u -c 'import sys, setuptools, tokenize; sys.argv[0] = '\"'\"'C:\\\\Users\\\\user\\\\AppData\\\\Local\\\\Temp\\\\pip-install-nt80fi3n\\\\wordcloud\\\\setup.py'\"'\"'; __file__='\"'\"'C:\\\\Users\\\\user\\\\AppData\\\\Local\\\\Temp\\\\pip-install-nt80fi3n\\\\wordcloud\\\\setup.py'\"'\"';f=getattr(tokenize, '\"'\"'open'\"'\"', open)(__file__);code=f.read().replace('\"'\"'\\r\\n'\"'\"', '\"'\"'\\n'\"'\"');f.close();exec(compile(code, __file__, '\"'\"'exec'\"'\"'))' install --record 'C:\\Users\\user\\AppData\\Local\\Temp\\pip-record-zplx35tk\\install-record.txt' --single-version-externally-managed --compile --install-headers 'c:\\users\\user\\appdata\\local\\programs\\python\\python37-32\\Include\\wordcloud' Check the logs for full command output.\n"
     ]
    }
   ],
   "source": [
    "!pip install wordcloud"
   ]
  },
  {
   "cell_type": "code",
   "execution_count": 4,
   "metadata": {},
   "outputs": [
    {
     "name": "stdout",
     "output_type": "stream",
     "text": [
      "Note: you may need to restart the kernel to use updated packages.\n"
     ]
    },
    {
     "name": "stderr",
     "output_type": "stream",
     "text": [
      "ERROR: Could not find a version that satisfies the requirement wordcloud (from versions: none)\n",
      "ERROR: No matching distribution found for wordcloud\n"
     ]
    }
   ],
   "source": [
    "pip install --only-binary :all: wordcloud"
   ]
  },
  {
   "cell_type": "code",
   "execution_count": null,
   "metadata": {},
   "outputs": [],
   "source": []
  }
 ],
 "metadata": {
  "kernelspec": {
   "display_name": "Python 3",
   "language": "python",
   "name": "python3"
  },
  "language_info": {
   "codemirror_mode": {
    "name": "ipython",
    "version": 3
   },
   "file_extension": ".py",
   "mimetype": "text/x-python",
   "name": "python",
   "nbconvert_exporter": "python",
   "pygments_lexer": "ipython3",
   "version": "3.7.3"
  }
 },
 "nbformat": 4,
 "nbformat_minor": 4
}
